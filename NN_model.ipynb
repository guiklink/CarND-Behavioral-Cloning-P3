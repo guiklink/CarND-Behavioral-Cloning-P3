{
 "cells": [
  {
   "cell_type": "markdown",
   "metadata": {},
   "source": [
    "## Config Variables and Load CSV Data"
   ]
  },
  {
   "cell_type": "code",
   "execution_count": 1,
   "metadata": {
    "collapsed": true
   },
   "outputs": [],
   "source": [
    "import csv\n",
    "\n",
    "image_data_path = 'Data/data_right_turn_improvement'\n",
    "\n",
    "csv_data = []\n",
    "with open(image_data_path + '/driving_log.csv') as csvfile:\n",
    "    reader = csv.reader(csvfile)\n",
    "    for row in reader:\n",
    "        csv_data.append(row)"
   ]
  },
  {
   "cell_type": "markdown",
   "metadata": {},
   "source": [
    "## Load Images"
   ]
  },
  {
   "cell_type": "markdown",
   "metadata": {},
   "source": [
    "### Function to read an pre-process image"
   ]
  },
  {
   "cell_type": "code",
   "execution_count": 2,
   "metadata": {
    "collapsed": true
   },
   "outputs": [],
   "source": [
    "import numpy as np\n",
    "import cv2\n",
    "import sklearn\n",
    "\n",
    "''' Function to pasrse source path and load image '''\n",
    "\n",
    "def image_loader(path):\n",
    "    filename = path.split('/')[-1]\n",
    "    current_path = image_data_path + '/IMG/' + filename\n",
    "    image = cv2.imread(current_path)\n",
    "\n",
    "    return image\n",
    "\n",
    "\n",
    "''' Function to loop through CSV and load a list of images and measurements '''\n",
    "\n",
    "def csv_loader(csv_data, image_index=0, correction = 0.0, measurement_index=3):    \n",
    "    images = []\n",
    "    measurements = []\n",
    "\n",
    "    for row in csv_data:\n",
    "        source_path = row[image_index]\n",
    "        measurement = float(row[measurement_index]) + correction\n",
    "\n",
    "        images.append(image_loader(source_path))        \n",
    "        measurements.append(measurement)\n",
    "            \n",
    "    assert len(images) == len(measurements)\n",
    "    return images, measurements\n",
    "    \n",
    "\n",
    "''' Function that read and return a list of flipped images and measurements '''\n",
    "\n",
    "def flip_images(image_list, measurement_list):\n",
    "    n_images = len(image_list)\n",
    "    n_measurements = len(measurement_list)\n",
    "    assert n_images == n_measurements\n",
    "    \n",
    "    flipped_images = []\n",
    "    flipped_measurements = []\n",
    "    for i in range(n_images):\n",
    "        flipped_images.append(np.fliplr(image_list[i]))\n",
    "        flipped_measurements.append(-measurement_list[i])\n",
    "        \n",
    "    return flipped_images, flipped_measurements"
   ]
  },
  {
   "cell_type": "markdown",
   "metadata": {},
   "source": [
    "### Load the Images from the front camera"
   ]
  },
  {
   "cell_type": "code",
   "execution_count": 3,
   "metadata": {
    "collapsed": true
   },
   "outputs": [],
   "source": [
    "images, measurements = csv_loader(csv_data)\n",
    "\n",
    "n_center_images = len(images)"
   ]
  },
  {
   "cell_type": "markdown",
   "metadata": {},
   "source": [
    "### The 2 cells bellow can load the images for the left and right camera"
   ]
  },
  {
   "cell_type": "markdown",
   "metadata": {},
   "source": [
    "Left Camera"
   ]
  },
  {
   "cell_type": "code",
   "execution_count": 4,
   "metadata": {
    "collapsed": true
   },
   "outputs": [],
   "source": [
    "images_left, measurements_left = csv_loader(csv_data, image_index=1, correction= 0.2)\n",
    "\n",
    "images.extend(images_left)\n",
    "measurements.extend(measurements_left)"
   ]
  },
  {
   "cell_type": "markdown",
   "metadata": {},
   "source": [
    "Right Camera"
   ]
  },
  {
   "cell_type": "code",
   "execution_count": 5,
   "metadata": {
    "collapsed": true
   },
   "outputs": [],
   "source": [
    "images_right, measurements_right = csv_loader(csv_data, image_index=2, correction= -0.2)\n",
    "\n",
    "images.extend(images_right)\n",
    "measurements.extend(measurements_right)"
   ]
  },
  {
   "cell_type": "markdown",
   "metadata": {},
   "source": [
    "#### Images shape"
   ]
  },
  {
   "cell_type": "code",
   "execution_count": 6,
   "metadata": {},
   "outputs": [
    {
     "name": "stdout",
     "output_type": "stream",
     "text": [
      "Number of images: 82116\n",
      "Image shape: (160, 320, 3)\n"
     ]
    }
   ],
   "source": [
    "image_shape = images[0].shape\n",
    "n_images = len(images)\n",
    "print('Number of images:', n_images)\n",
    "print('Image shape:',image_shape)"
   ]
  },
  {
   "cell_type": "markdown",
   "metadata": {},
   "source": [
    "Image sample (Center/Left/Right)"
   ]
  },
  {
   "cell_type": "markdown",
   "metadata": {},
   "source": [
    "### Run this cell to enhance the set with flipped images"
   ]
  },
  {
   "cell_type": "code",
   "execution_count": 7,
   "metadata": {},
   "outputs": [
    {
     "name": "stdout",
     "output_type": "stream",
     "text": [
      "Number of images: 82116\n"
     ]
    }
   ],
   "source": [
    "print('Number of images:', len(images))"
   ]
  },
  {
   "cell_type": "markdown",
   "metadata": {},
   "source": [
    "Sample (Normal/Flipped)"
   ]
  },
  {
   "cell_type": "markdown",
   "metadata": {},
   "source": [
    "#### Load X and y train"
   ]
  },
  {
   "cell_type": "code",
   "execution_count": 8,
   "metadata": {
    "collapsed": true
   },
   "outputs": [],
   "source": [
    "X_train = np.array(images)\n",
    "y_train = np.array(measurements)"
   ]
  },
  {
   "cell_type": "markdown",
   "metadata": {},
   "source": [
    "## NVIDIA Network Model"
   ]
  },
  {
   "cell_type": "code",
   "execution_count": 11,
   "metadata": {},
   "outputs": [
    {
     "name": "stderr",
     "output_type": "stream",
     "text": [
      "/usr/local/lib/python3.5/dist-packages/ipykernel_launcher.py:10: UserWarning: Update your `Conv2D` call to the Keras 2 API: `Conv2D(24, (5, 5), activation=\"relu\", strides=(2, 2))`\n",
      "  # Remove the CWD from sys.path while we load stuff.\n",
      "/usr/local/lib/python3.5/dist-packages/ipykernel_launcher.py:12: UserWarning: Update your `Conv2D` call to the Keras 2 API: `Conv2D(36, (5, 5), activation=\"relu\", strides=(2, 2))`\n",
      "  if sys.path[0] == '':\n",
      "/usr/local/lib/python3.5/dist-packages/ipykernel_launcher.py:14: UserWarning: Update your `Conv2D` call to the Keras 2 API: `Conv2D(48, (5, 5), activation=\"relu\", strides=(2, 2))`\n",
      "  \n",
      "/usr/local/lib/python3.5/dist-packages/ipykernel_launcher.py:16: UserWarning: Update your `Conv2D` call to the Keras 2 API: `Conv2D(64, (3, 3), activation=\"relu\")`\n",
      "  app.launch_new_instance()\n",
      "/usr/local/lib/python3.5/dist-packages/ipykernel_launcher.py:18: UserWarning: Update your `Conv2D` call to the Keras 2 API: `Conv2D(64, (3, 3), activation=\"relu\")`\n"
     ]
    },
    {
     "name": "stdout",
     "output_type": "stream",
     "text": [
      "Train on 65692 samples, validate on 16424 samples\n",
      "Epoch 1/20\n",
      "65692/65692 [==============================] - 40s - loss: 0.0152 - val_loss: 0.0358\n",
      "Epoch 2/20\n",
      "65692/65692 [==============================] - 39s - loss: 0.0135 - val_loss: 0.0325\n",
      "Epoch 3/20\n",
      "65692/65692 [==============================] - 38s - loss: 0.0130 - val_loss: 0.0341\n",
      "Epoch 4/20\n",
      "65692/65692 [==============================] - 39s - loss: 0.0128 - val_loss: 0.0459\n",
      "Epoch 5/20\n",
      "65692/65692 [==============================] - 39s - loss: 0.0127 - val_loss: 0.0376\n",
      "Epoch 6/20\n",
      "65692/65692 [==============================] - 39s - loss: 0.0126 - val_loss: 0.0355\n",
      "Epoch 7/20\n",
      "65692/65692 [==============================] - 39s - loss: 0.0125 - val_loss: 0.0392\n",
      "Epoch 8/20\n",
      "65692/65692 [==============================] - 39s - loss: 0.0124 - val_loss: 0.0323\n",
      "Epoch 9/20\n",
      "65692/65692 [==============================] - 39s - loss: 0.0122 - val_loss: 0.0355\n",
      "Epoch 10/20\n",
      "65692/65692 [==============================] - 39s - loss: 0.0122 - val_loss: 0.0296\n",
      "Epoch 11/20\n",
      "65692/65692 [==============================] - 39s - loss: 0.0121 - val_loss: 0.0398\n",
      "Epoch 12/20\n",
      "65692/65692 [==============================] - 39s - loss: 0.0120 - val_loss: 0.0370\n",
      "Epoch 13/20\n",
      "65692/65692 [==============================] - 39s - loss: 0.0119 - val_loss: 0.0280\n",
      "Epoch 14/20\n",
      "65692/65692 [==============================] - 39s - loss: 0.0119 - val_loss: 0.0371\n",
      "Epoch 15/20\n",
      "65692/65692 [==============================] - 38s - loss: 0.0118 - val_loss: 0.0300\n",
      "Epoch 16/20\n",
      "65692/65692 [==============================] - 38s - loss: 0.0118 - val_loss: 0.0291\n",
      "Epoch 17/20\n",
      "65692/65692 [==============================] - 38s - loss: 0.0117 - val_loss: 0.0285\n",
      "Epoch 18/20\n",
      "65692/65692 [==============================] - 38s - loss: 0.0116 - val_loss: 0.0329\n",
      "Epoch 19/20\n",
      "65692/65692 [==============================] - 38s - loss: 0.0115 - val_loss: 0.0312\n",
      "Epoch 20/20\n",
      "65692/65692 [==============================] - 39s - loss: 0.0115 - val_loss: 0.0361\n",
      "DONE!\n"
     ]
    }
   ],
   "source": [
    "from keras.layers import Flatten, Dense, Lambda, Convolution2D, MaxPooling2D, Cropping2D, Dropout, Activation\n",
    "from keras.models import Sequential\n",
    "from keras.models import Model\n",
    "\n",
    "model = Sequential()\n",
    "\n",
    "model.add(Lambda(lambda x: (x / 255.0) - 0.5, input_shape=image_shape))\n",
    "model.add(Cropping2D(cropping=((70,25), (0,0))))\n",
    "\n",
    "model.add(Convolution2D(24, 5, 5, subsample=(2,2), activation='relu'))\n",
    "model.add(Dropout(0.5))\n",
    "model.add(Convolution2D(36, 5, 5, subsample=(2,2), activation='relu'))\n",
    "model.add(Dropout(0.5))\n",
    "model.add(Convolution2D(48, 5, 5, subsample=(2,2), activation='relu'))\n",
    "model.add(Dropout(0.5))\n",
    "model.add(Convolution2D(64, 3, 3, activation='relu'))\n",
    "model.add(Dropout(0.5))\n",
    "model.add(Convolution2D(64, 3, 3, activation='relu'))\n",
    "model.add(Dropout(0.5))\n",
    "model.add(Flatten())\n",
    "model.add(Dense(100))\n",
    "model.add(Dense(50))\n",
    "model.add(Dense(10))\n",
    "model.add(Dense(1))\n",
    "\n",
    "model.compile(loss='mse', optimizer='adam')\n",
    "model.fit(X_train, y_train, validation_split=0.2, shuffle=True, epochs=20)\n",
    "\n",
    "model.save('nvidia_center6.h5py')\n",
    "print('DONE!')"
   ]
  },
  {
   "cell_type": "code",
   "execution_count": 10,
   "metadata": {},
   "outputs": [
    {
     "name": "stderr",
     "output_type": "stream",
     "text": [
      "/usr/local/lib/python3.5/dist-packages/ipykernel_launcher.py:10: UserWarning: Update your `Conv2D` call to the Keras 2 API: `Conv2D(24, (5, 5), activation=\"relu\", strides=(2, 2))`\n",
      "  # Remove the CWD from sys.path while we load stuff.\n",
      "/usr/local/lib/python3.5/dist-packages/ipykernel_launcher.py:11: UserWarning: Update your `Conv2D` call to the Keras 2 API: `Conv2D(36, (5, 5), activation=\"relu\", strides=(2, 2))`\n",
      "  # This is added back by InteractiveShellApp.init_path()\n",
      "/usr/local/lib/python3.5/dist-packages/ipykernel_launcher.py:12: UserWarning: Update your `Conv2D` call to the Keras 2 API: `Conv2D(48, (5, 5), activation=\"relu\", strides=(2, 2))`\n",
      "  if sys.path[0] == '':\n",
      "/usr/local/lib/python3.5/dist-packages/ipykernel_launcher.py:13: UserWarning: Update your `Conv2D` call to the Keras 2 API: `Conv2D(64, (3, 3), activation=\"relu\")`\n",
      "  del sys.path[0]\n",
      "/usr/local/lib/python3.5/dist-packages/ipykernel_launcher.py:15: UserWarning: Update your `Conv2D` call to the Keras 2 API: `Conv2D(64, (3, 3), activation=\"relu\")`\n",
      "  from ipykernel import kernelapp as app\n"
     ]
    },
    {
     "name": "stdout",
     "output_type": "stream",
     "text": [
      "Train on 65692 samples, validate on 16424 samples\n",
      "Epoch 1/20\n",
      "65692/65692 [==============================] - 34s - loss: 0.0137 - val_loss: 0.0270\n",
      "Epoch 2/20\n",
      "65692/65692 [==============================] - 33s - loss: 0.0118 - val_loss: 0.0277\n",
      "Epoch 3/20\n",
      "65692/65692 [==============================] - 34s - loss: 0.0110 - val_loss: 0.0151\n",
      "Epoch 4/20\n",
      "65692/65692 [==============================] - 33s - loss: 0.0101 - val_loss: 0.0241\n",
      "Epoch 5/20\n",
      "65692/65692 [==============================] - 33s - loss: 0.0094 - val_loss: 0.0219\n",
      "Epoch 6/20\n",
      "65692/65692 [==============================] - 34s - loss: 0.0089 - val_loss: 0.0182\n",
      "Epoch 7/20\n",
      "65692/65692 [==============================] - 34s - loss: 0.0084 - val_loss: 0.0189\n",
      "Epoch 8/20\n",
      "65692/65692 [==============================] - 34s - loss: 0.0080 - val_loss: 0.0167\n",
      "Epoch 9/20\n",
      "65692/65692 [==============================] - 34s - loss: 0.0077 - val_loss: 0.0166\n",
      "Epoch 10/20\n",
      "65692/65692 [==============================] - 34s - loss: 0.0074 - val_loss: 0.0117\n",
      "Epoch 11/20\n",
      "65692/65692 [==============================] - 34s - loss: 0.0071 - val_loss: 0.0143\n",
      "Epoch 12/20\n",
      "65692/65692 [==============================] - 34s - loss: 0.0069 - val_loss: 0.0167\n",
      "Epoch 13/20\n",
      "65692/65692 [==============================] - 35s - loss: 0.0067 - val_loss: 0.0195\n",
      "Epoch 14/20\n",
      "65692/65692 [==============================] - 34s - loss: 0.0065 - val_loss: 0.0137\n",
      "Epoch 15/20\n",
      "65692/65692 [==============================] - 33s - loss: 0.0063 - val_loss: 0.0192\n",
      "Epoch 16/20\n",
      "65692/65692 [==============================] - 34s - loss: 0.0061 - val_loss: 0.0193\n",
      "Epoch 17/20\n",
      "65692/65692 [==============================] - 34s - loss: 0.0059 - val_loss: 0.0175\n",
      "Epoch 18/20\n",
      "65692/65692 [==============================] - 34s - loss: 0.0057 - val_loss: 0.0130\n",
      "Epoch 19/20\n",
      "65692/65692 [==============================] - 34s - loss: 0.0055 - val_loss: 0.0172\n",
      "Epoch 20/20\n",
      "65692/65692 [==============================] - 33s - loss: 0.0055 - val_loss: 0.0147\n",
      "DONE!\n"
     ]
    }
   ],
   "source": [
    "from keras.layers import Flatten, Dense, Lambda, Convolution2D, MaxPooling2D, Cropping2D, Dropout, Activation\n",
    "from keras.models import Sequential\n",
    "from keras.models import Model\n",
    "\n",
    "model = Sequential()\n",
    "\n",
    "model.add(Lambda(lambda x: (x / 255.0) - 0.5, input_shape=image_shape))\n",
    "model.add(Cropping2D(cropping=((70,25), (0,0))))\n",
    "\n",
    "model.add(Convolution2D(24, 5, 5, subsample=(2,2), activation='relu'))\n",
    "model.add(Convolution2D(36, 5, 5, subsample=(2,2), activation='relu'))\n",
    "model.add(Convolution2D(48, 5, 5, subsample=(2,2), activation='relu'))\n",
    "model.add(Convolution2D(64, 3, 3, activation='relu'))\n",
    "model.add(Dropout(0.5))\n",
    "model.add(Convolution2D(64, 3, 3, activation='relu'))\n",
    "model.add(Dropout(0.5))\n",
    "model.add(Flatten())\n",
    "model.add(Dense(100))\n",
    "model.add(Dense(50))\n",
    "model.add(Dense(10))\n",
    "model.add(Dense(1))\n",
    "\n",
    "model.compile(loss='mse', optimizer='adam')\n",
    "model.fit(X_train, y_train, validation_split=0.2, shuffle=True, epochs=20)\n",
    "\n",
    "model.save('nvidia_center5.h5py')\n",
    "print('DONE!')"
   ]
  },
  {
   "cell_type": "code",
   "execution_count": 11,
   "metadata": {},
   "outputs": [
    {
     "name": "stderr",
     "output_type": "stream",
     "text": [
      "/usr/local/lib/python3.5/dist-packages/ipykernel_launcher.py:12: UserWarning: Update your `Conv2D` call to the Keras 2 API: `Conv2D(24, (5, 5), strides=(2, 2), activation=\"relu\")`\n",
      "  if sys.path[0] == '':\n",
      "/usr/local/lib/python3.5/dist-packages/ipykernel_launcher.py:13: UserWarning: Update your `Conv2D` call to the Keras 2 API: `Conv2D(36, (5, 5), strides=(2, 2), activation=\"relu\")`\n",
      "  del sys.path[0]\n",
      "/usr/local/lib/python3.5/dist-packages/ipykernel_launcher.py:14: UserWarning: Update your `Conv2D` call to the Keras 2 API: `Conv2D(48, (5, 5), strides=(2, 2))`\n",
      "  \n",
      "/usr/local/lib/python3.5/dist-packages/ipykernel_launcher.py:17: UserWarning: Update your `Conv2D` call to the Keras 2 API: `Conv2D(64, (3, 3))`\n",
      "/usr/local/lib/python3.5/dist-packages/ipykernel_launcher.py:20: UserWarning: Update your `Conv2D` call to the Keras 2 API: `Conv2D(64, (3, 3))`\n"
     ]
    },
    {
     "name": "stdout",
     "output_type": "stream",
     "text": [
      "Train on 65692 samples, validate on 16424 samples\n",
      "Epoch 1/20\n",
      "65692/65692 [==============================] - 35s - loss: 0.0144 - val_loss: 0.0271\n",
      "Epoch 2/20\n",
      "65692/65692 [==============================] - 34s - loss: 0.0125 - val_loss: 0.0297\n",
      "Epoch 3/20\n",
      "65692/65692 [==============================] - 35s - loss: 0.0119 - val_loss: 0.0346\n",
      "Epoch 4/20\n",
      "65692/65692 [==============================] - 35s - loss: 0.0116 - val_loss: 0.0273\n",
      "Epoch 5/20\n",
      "65692/65692 [==============================] - 36s - loss: 0.0112 - val_loss: 0.0275\n",
      "Epoch 6/20\n",
      "65692/65692 [==============================] - 34s - loss: 0.0108 - val_loss: 0.0304\n",
      "Epoch 7/20\n",
      "65692/65692 [==============================] - 34s - loss: 0.0105 - val_loss: 0.0183\n",
      "Epoch 8/20\n",
      "65692/65692 [==============================] - 35s - loss: 0.0103 - val_loss: 0.0198\n",
      "Epoch 9/20\n",
      "65692/65692 [==============================] - 35s - loss: 0.0100 - val_loss: 0.0223\n",
      "Epoch 10/20\n",
      "65692/65692 [==============================] - 35s - loss: 0.0097 - val_loss: 0.0271\n",
      "Epoch 11/20\n",
      "65692/65692 [==============================] - 35s - loss: 0.0095 - val_loss: 0.0205\n",
      "Epoch 12/20\n",
      "65692/65692 [==============================] - 35s - loss: 0.0092 - val_loss: 0.0222\n",
      "Epoch 13/20\n",
      "65692/65692 [==============================] - 34s - loss: 0.0091 - val_loss: 0.0155\n",
      "Epoch 14/20\n",
      "65692/65692 [==============================] - 34s - loss: 0.0088 - val_loss: 0.0145\n",
      "Epoch 15/20\n",
      "65692/65692 [==============================] - 34s - loss: 0.0086 - val_loss: 0.0201\n",
      "Epoch 16/20\n",
      "65692/65692 [==============================] - 34s - loss: 0.0084 - val_loss: 0.0178\n",
      "Epoch 17/20\n",
      "65692/65692 [==============================] - 34s - loss: 0.0082 - val_loss: 0.0150\n",
      "Epoch 18/20\n",
      "65692/65692 [==============================] - 35s - loss: 0.0081 - val_loss: 0.0162\n",
      "Epoch 19/20\n",
      "65692/65692 [==============================] - 34s - loss: 0.0080 - val_loss: 0.0158\n",
      "Epoch 20/20\n",
      "65692/65692 [==============================] - 34s - loss: 0.0079 - val_loss: 0.0158\n",
      "DONE!\n"
     ]
    }
   ],
   "source": [
    "from keras.layers import Flatten, Dense, Lambda, Convolution2D, MaxPooling2D, Cropping2D, Dropout, Activation\n",
    "from keras.models import Sequential\n",
    "from keras.models import Model\n",
    "\n",
    "model = Sequential()\n",
    "# model.add(Cropping2D(cropping=((70,25), (0,0)), input_shape=image_shape))\n",
    "# model.add(Lambda(lambda x: (x / 255.0) - 0.5))\n",
    "\n",
    "model.add(Lambda(lambda x: (x / 255.0) - 0.5, input_shape=image_shape))\n",
    "model.add(Cropping2D(cropping=((70,25), (0,0))))\n",
    "\n",
    "model.add(Convolution2D(24, 5, 5, subsample=(2,2), activation='relu'))\n",
    "model.add(Convolution2D(36, 5, 5, subsample=(2,2), activation='relu'))\n",
    "model.add(Convolution2D(48, 5, 5, subsample=(2,2)))\n",
    "model.add(Dropout(0.5))\n",
    "model.add(Activation('relu'))\n",
    "model.add(Convolution2D(64, 3, 3))\n",
    "model.add(Dropout(0.5))\n",
    "model.add(Activation('relu'))\n",
    "model.add(Convolution2D(64, 3, 3))\n",
    "model.add(Dropout(0.5))\n",
    "model.add(Activation('relu'))\n",
    "model.add(Flatten())\n",
    "model.add(Dense(100))\n",
    "model.add(Dense(50))\n",
    "model.add(Dense(10))\n",
    "model.add(Dense(1))\n",
    "\n",
    "model.compile(loss='mse', optimizer='adam')\n",
    "model.fit(X_train, y_train, validation_split=0.2, shuffle=True, epochs=20)\n",
    "\n",
    "model.save('nvidia_center4.h5py')\n",
    "print('DONE!')"
   ]
  }
 ],
 "metadata": {
  "kernelspec": {
   "display_name": "tensorflow",
   "language": "python",
   "name": "tensorflow"
  },
  "language_info": {
   "codemirror_mode": {
    "name": "ipython",
    "version": 3
   },
   "file_extension": ".py",
   "mimetype": "text/x-python",
   "name": "python",
   "nbconvert_exporter": "python",
   "pygments_lexer": "ipython3",
   "version": "3.5.2"
  }
 },
 "nbformat": 4,
 "nbformat_minor": 2
}
